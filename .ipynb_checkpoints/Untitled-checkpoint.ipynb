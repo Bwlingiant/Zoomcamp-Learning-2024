{
 "cells": [
  {
   "cell_type": "code",
   "execution_count": 1,
   "id": "e0fe5a00-7de3-44c2-bfb0-2ea77e08871a",
   "metadata": {},
   "outputs": [
    {
     "name": "stdout",
     "output_type": "stream",
     "text": [
      "Howdy neighbor!\n"
     ]
    }
   ],
   "source": [
    "print('Howdy neighbor!')"
   ]
  }
 ],
 "metadata": {
  "kernelspec": {
   "display_name": "Python 3 (ipykernel)",
   "language": "python",
   "name": "python3"
  },
  "language_info": {
   "codemirror_mode": {
    "name": "ipython",
    "version": 3
   },
   "file_extension": ".py",
   "mimetype": "text/x-python",
   "name": "python",
   "nbconvert_exporter": "python",
   "pygments_lexer": "ipython3",
   "version": "3.12.1"
  }
 },
 "nbformat": 4,
 "nbformat_minor": 5
}
